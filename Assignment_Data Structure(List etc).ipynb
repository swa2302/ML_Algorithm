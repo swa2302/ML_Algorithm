{
 "cells": [
  {
   "cell_type": "markdown",
   "id": "0cb1a482",
   "metadata": {},
   "source": [
    "# ASSIGNMENT-2 Data Types"
   ]
  },
  {
   "cell_type": "markdown",
   "id": "3c8957cb",
   "metadata": {},
   "source": [
    "#    1. Construct 2 lists containing all the available data types (integer, float, string, complex and Boolean) and do the following.\n",
    "        a. Create another list by concatenating above 2 lists\n",
    "        b. Find the frequency of each element in the concatenated list.\n",
    "        c. Print the list in reverse order.\n"
   ]
  },
  {
   "cell_type": "code",
   "execution_count": 73,
   "id": "2a07acec",
   "metadata": {},
   "outputs": [],
   "source": [
    "lis1 = [1,2,2.3,\"Swati\",True,complex(3,6)]\n",
    "lis2 = [5,4,6.7,\"fruits\",False,complex(9,6)]"
   ]
  },
  {
   "cell_type": "code",
   "execution_count": 74,
   "id": "18aba0fe",
   "metadata": {},
   "outputs": [],
   "source": [
    "lis3 = lis1 + lis2"
   ]
  },
  {
   "cell_type": "code",
   "execution_count": 75,
   "id": "f870dbbe",
   "metadata": {},
   "outputs": [
    {
     "name": "stdout",
     "output_type": "stream",
     "text": [
      "[1, 2, 2.3, 'Swati', True, (3+6j), 5, 4, 6.7, 'fruits', False, (9+6j)]\n"
     ]
    }
   ],
   "source": [
    "print(lis3)"
   ]
  },
  {
   "cell_type": "code",
   "execution_count": 82,
   "id": "bdabd58e",
   "metadata": {},
   "outputs": [],
   "source": [
    "dic = {}\n",
    "for i in lis3:\n",
    "    #dic.update({i:lis3.count(i)})\n",
    "    dic[i] = lis3.count(i)"
   ]
  },
  {
   "cell_type": "code",
   "execution_count": 83,
   "id": "ddca5f7f",
   "metadata": {},
   "outputs": [
    {
     "data": {
      "text/plain": [
       "{1: 2,\n",
       " 2: 1,\n",
       " 2.3: 1,\n",
       " 'Swati': 1,\n",
       " (3+6j): 1,\n",
       " 5: 1,\n",
       " 4: 1,\n",
       " 6.7: 1,\n",
       " 'fruits': 1,\n",
       " False: 1,\n",
       " (9+6j): 1}"
      ]
     },
     "execution_count": 83,
     "metadata": {},
     "output_type": "execute_result"
    }
   ],
   "source": [
    "dic"
   ]
  },
  {
   "cell_type": "code",
   "execution_count": 60,
   "id": "34517d1e",
   "metadata": {},
   "outputs": [],
   "source": [
    "lis3.reverse()"
   ]
  },
  {
   "cell_type": "code",
   "execution_count": 61,
   "id": "8357f506",
   "metadata": {},
   "outputs": [
    {
     "data": {
      "text/plain": [
       "[(3+6j), False, 'fruits', 6.7, 4, 5, (3+6j), True, 'Swati', 2.3, 2, 1]"
      ]
     },
     "execution_count": 61,
     "metadata": {},
     "output_type": "execute_result"
    }
   ],
   "source": [
    "lis3"
   ]
  },
  {
   "cell_type": "markdown",
   "id": "7875b5a2",
   "metadata": {},
   "source": [
    "# 2. Create 2 Sets containing integers (numbers from 1 to 10 in one set and 5 to 15 in other set)\n",
    "a. Find the common elements in above 2 Sets.\n",
    "b. Find the elements that are not common.\n",
    "c. Remove element 7 from both the Sets."
   ]
  },
  {
   "cell_type": "code",
   "execution_count": 45,
   "id": "223a3e54",
   "metadata": {},
   "outputs": [],
   "source": [
    "set1 = {1,2,3,4,5,6,7,8,9,10}\n",
    "set2 = {5,6,7,8,9,10,11,12,13,14,15}"
   ]
  },
  {
   "cell_type": "code",
   "execution_count": 46,
   "id": "a92b1fd9",
   "metadata": {},
   "outputs": [],
   "source": [
    "x = set1.intersection(set2)"
   ]
  },
  {
   "cell_type": "code",
   "execution_count": 47,
   "id": "680a341a",
   "metadata": {},
   "outputs": [
    {
     "name": "stdout",
     "output_type": "stream",
     "text": [
      "{5, 6, 7, 8, 9, 10}\n"
     ]
    }
   ],
   "source": [
    "print(x)"
   ]
  },
  {
   "cell_type": "code",
   "execution_count": 48,
   "id": "9727249e",
   "metadata": {},
   "outputs": [],
   "source": [
    "z = set1.symmetric_difference(set2)"
   ]
  },
  {
   "cell_type": "code",
   "execution_count": 49,
   "id": "94cd5724",
   "metadata": {},
   "outputs": [
    {
     "name": "stdout",
     "output_type": "stream",
     "text": [
      "{1, 2, 3, 4, 11, 12, 13, 14, 15}\n"
     ]
    }
   ],
   "source": [
    "print(z)"
   ]
  },
  {
   "cell_type": "code",
   "execution_count": 50,
   "id": "1dbf1b0e",
   "metadata": {},
   "outputs": [],
   "source": [
    "set1.remove(7)"
   ]
  },
  {
   "cell_type": "code",
   "execution_count": 53,
   "id": "bafe19ac",
   "metadata": {},
   "outputs": [
    {
     "name": "stdout",
     "output_type": "stream",
     "text": [
      "{1, 2, 3, 4, 5, 6, 8, 9, 10}\n"
     ]
    }
   ],
   "source": [
    "print(set1)"
   ]
  },
  {
   "cell_type": "code",
   "execution_count": 54,
   "id": "68ea87fa",
   "metadata": {},
   "outputs": [],
   "source": [
    "set2.remove(7)"
   ]
  },
  {
   "cell_type": "code",
   "execution_count": 56,
   "id": "e12abcf3",
   "metadata": {},
   "outputs": [
    {
     "name": "stdout",
     "output_type": "stream",
     "text": [
      "{5, 6, 8, 9, 10, 11, 12, 13, 14, 15}\n"
     ]
    }
   ],
   "source": [
    "print(set2)"
   ]
  },
  {
   "cell_type": "markdown",
   "id": "1fb5fb7e",
   "metadata": {},
   "source": [
    "# create a data dictionary of 5 states having state name as key and number of covid-19 cases as values.\n",
    "a. Print only state names from the dictionary.\n",
    "b. Update another country and it’s covid-19 cases in the dictionary.\n"
   ]
  },
  {
   "cell_type": "code",
   "execution_count": 84,
   "id": "b025944d",
   "metadata": {},
   "outputs": [],
   "source": [
    "dic1 = {\"Maharastra\":500,\"West Bengal\":100,\"Bihar\":256,\"Karnataka\":321,\"Gujrat\":789}"
   ]
  },
  {
   "cell_type": "code",
   "execution_count": 85,
   "id": "579a04a3",
   "metadata": {},
   "outputs": [
    {
     "data": {
      "text/plain": [
       "dict_keys(['Maharastra', 'West Bengal', 'Bihar', 'Karnataka', 'Gujrat'])"
      ]
     },
     "execution_count": 85,
     "metadata": {},
     "output_type": "execute_result"
    }
   ],
   "source": [
    "dic1.keys()"
   ]
  },
  {
   "cell_type": "code",
   "execution_count": 86,
   "id": "2f5eec9f",
   "metadata": {},
   "outputs": [],
   "source": [
    "dic1[\"China\"] = 10000"
   ]
  },
  {
   "cell_type": "code",
   "execution_count": 87,
   "id": "9983dcca",
   "metadata": {},
   "outputs": [
    {
     "name": "stdout",
     "output_type": "stream",
     "text": [
      "{'Maharastra': 500, 'West Bengal': 100, 'Bihar': 256, 'Karnataka': 321, 'Gujrat': 789, 'China': 10000}\n"
     ]
    }
   ],
   "source": [
    "print(dic1)"
   ]
  },
  {
   "cell_type": "code",
   "execution_count": null,
   "id": "ce6b9bf3",
   "metadata": {},
   "outputs": [],
   "source": []
  }
 ],
 "metadata": {
  "kernelspec": {
   "display_name": "Python 3 (ipykernel)",
   "language": "python",
   "name": "python3"
  },
  "language_info": {
   "codemirror_mode": {
    "name": "ipython",
    "version": 3
   },
   "file_extension": ".py",
   "mimetype": "text/x-python",
   "name": "python",
   "nbconvert_exporter": "python",
   "pygments_lexer": "ipython3",
   "version": "3.9.7"
  }
 },
 "nbformat": 4,
 "nbformat_minor": 5
}
