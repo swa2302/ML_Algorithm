{
 "cells": [
  {
   "cell_type": "markdown",
   "id": "67ce6bc4",
   "metadata": {},
   "source": [
    "# MODULE 7 LOOPS"
   ]
  },
  {
   "cell_type": "markdown",
   "id": "0bb99815",
   "metadata": {},
   "source": [
    "# 1. Print the Palindromes (reverse of the number is itself) that are present in between 100 and 250. (Ex: 121,131,212,222... etc.)"
   ]
  },
  {
   "cell_type": "code",
   "execution_count": 10,
   "id": "340cf10c",
   "metadata": {},
   "outputs": [],
   "source": [
    "def palindrome():\n",
    "    lis = []\n",
    "    for i in range(100,250):\n",
    "        rev = 0\n",
    "        origNum = i\n",
    "        while(i > 0):\n",
    "            rev = rev * 10 + i % 10\n",
    "            i = i // 10\n",
    "            if origNum == rev:\n",
    "                lis.append(origNum)\n",
    "            else:\n",
    "                pass\n",
    "    return lis"
   ]
  },
  {
   "cell_type": "code",
   "execution_count": 11,
   "id": "86e2794c",
   "metadata": {},
   "outputs": [
    {
     "name": "stdout",
     "output_type": "stream",
     "text": [
      "[101, 111, 121, 131, 141, 151, 161, 171, 181, 191, 202, 212, 222, 232, 242] are the palindrome numbers between 100 to 250\n"
     ]
    }
   ],
   "source": [
    "res = palindrome()\n",
    "print(\"{} are the palindrome numbers between 100 to 250\".format(res))"
   ]
  },
  {
   "cell_type": "markdown",
   "id": "54590c31",
   "metadata": {},
   "source": [
    "# Consider a list1 [3,4,5,6,7,8]. Create a new list2 such that Add 10 to the even number and multiply with 5 if it is odd number in the list1."
   ]
  },
  {
   "cell_type": "code",
   "execution_count": 12,
   "id": "e8b383b1",
   "metadata": {},
   "outputs": [],
   "source": [
    "def lis(list1):\n",
    "    list2 = []\n",
    "    for i in list1:\n",
    "        if i % 2 == 0:\n",
    "            x = i + 10\n",
    "            list2.append(x)\n",
    "        else:\n",
    "            y = i * 5\n",
    "            list2.append(y)\n",
    "    return list2 "
   ]
  },
  {
   "cell_type": "code",
   "execution_count": 13,
   "id": "c3c8be28",
   "metadata": {},
   "outputs": [],
   "source": [
    "result = lis([3,4,5,6,7,8])"
   ]
  },
  {
   "cell_type": "code",
   "execution_count": 14,
   "id": "829f3471",
   "metadata": {},
   "outputs": [
    {
     "name": "stdout",
     "output_type": "stream",
     "text": [
      "[15, 14, 25, 16, 35, 18]\n"
     ]
    }
   ],
   "source": [
    "print(result)"
   ]
  },
  {
   "cell_type": "markdown",
   "id": "a3536ff7",
   "metadata": {},
   "source": [
    "# 3. Consider a list [2,3,4,5,6]. Find the total sum of cumulative products of all the numbers in the list. (sum= 2*3 + 2*3*4 +....)"
   ]
  },
  {
   "cell_type": "code",
   "execution_count": 21,
   "id": "2865a3d1",
   "metadata": {},
   "outputs": [],
   "source": [
    "def cumsum(lis1):\n",
    "    lis = []\n",
    "    start = 1\n",
    "    total = 0\n",
    "    for i in lis1:\n",
    "        start = start * i\n",
    "        lis.append(start)\n",
    "        total = total + start\n",
    "    return (lis,total)"
   ]
  },
  {
   "cell_type": "code",
   "execution_count": 22,
   "id": "14d4aca3",
   "metadata": {},
   "outputs": [],
   "source": [
    "(res1,res2) = cumsum([2,3,4,5,6])"
   ]
  },
  {
   "cell_type": "code",
   "execution_count": 23,
   "id": "af321b5f",
   "metadata": {},
   "outputs": [
    {
     "name": "stdout",
     "output_type": "stream",
     "text": [
      "cumulative product of [2, 3, 4, 5, 6] is [2, 6, 24, 120, 720] and sum of cumulative product is 872\n"
     ]
    }
   ],
   "source": [
    "print(\"cumulative product of {} is {} and sum of cumulative product is {}\".format([2,3,4,5,6],res1,res2))"
   ]
  },
  {
   "cell_type": "code",
   "execution_count": null,
   "id": "194f19a6",
   "metadata": {},
   "outputs": [],
   "source": []
  }
 ],
 "metadata": {
  "kernelspec": {
   "display_name": "Python 3 (ipykernel)",
   "language": "python",
   "name": "python3"
  },
  "language_info": {
   "codemirror_mode": {
    "name": "ipython",
    "version": 3
   },
   "file_extension": ".py",
   "mimetype": "text/x-python",
   "name": "python",
   "nbconvert_exporter": "python",
   "pygments_lexer": "ipython3",
   "version": "3.9.7"
  }
 },
 "nbformat": 4,
 "nbformat_minor": 5
}
