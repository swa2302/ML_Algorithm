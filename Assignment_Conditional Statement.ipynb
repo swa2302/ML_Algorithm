{
 "cells": [
  {
   "cell_type": "markdown",
   "id": "3bc02609",
   "metadata": {},
   "source": [
    "   # 1.  Take a variable age which is of positive value and check the following:\n",
    "   # a. If age is less than 10, print “Children”.\n",
    "   # b. If age is more than 60, print ‘senior citizens’\n",
    "   # c.  If it is in between 10 and 60, print ‘normal citizen’"
   ]
  },
  {
   "cell_type": "code",
   "execution_count": 46,
   "id": "bf643a26",
   "metadata": {},
   "outputs": [
    {
     "name": "stdout",
     "output_type": "stream",
     "text": [
      "enter the age\t65\n",
      "senior citizens\n"
     ]
    }
   ],
   "source": [
    "age = int(input(\"enter the age\\t\"))\n",
    "if age > 0:\n",
    "    if age < 10:\n",
    "        print(\"Children\")\n",
    "    elif age > 60:\n",
    "        print(\"senior citizens\")\n",
    "    elif (age > 10 and age < 60):\n",
    "        print(\"normal citizen\")\n",
    "else:\n",
    "    print(\"enter age in positive value\")"
   ]
  },
  {
   "cell_type": "markdown",
   "id": "74d23766",
   "metadata": {},
   "source": [
    "  #  2. Find the final train ticket price with the following conditions. \n",
    "   # a. If male and seniorcitizen, 70% of fare is applicable\n",
    "   # b. If female and seniorcitizen, 50% of fare is applicable.\n",
    "   # c. If female and normal citizen, 70% of fare is applicable\n",
    "   # d. If male and normal citizen, 100% of fare is applicable\n",
    "[Hint: First check for the gender, then calculate the fare based on age factor. For both Male and Female, consider them as senior citizens if their age >=60]\n"
   ]
  },
  {
   "cell_type": "code",
   "execution_count": 1,
   "id": "65c8ff4a",
   "metadata": {},
   "outputs": [
    {
     "name": "stdout",
     "output_type": "stream",
     "text": [
      "enter gender male or female:\tfemale\n",
      "enter the age:\t34\n",
      "70% of fare is applicable\n"
     ]
    }
   ],
   "source": [
    "gender = input(\"enter gender male or female:\\t\")\n",
    "age = int(input(\"enter the age:\\t\"))\n",
    "\n",
    "if gender == \"male\":\n",
    "    if age >= 60:\n",
    "        print(\"70% of fare is applicable\")\n",
    "    else:\n",
    "        print(\" 100% of fare is applicable\")\n",
    "else:\n",
    "    if age >= 60:\n",
    "        print(\"50% of fare is applicable\")\n",
    "    else:\n",
    "        print(\"70% of fare is applicable\")"
   ]
  },
  {
   "cell_type": "markdown",
   "id": "7c67b1e5",
   "metadata": {},
   "source": [
    "# 3. Check whether the given number is positive and divisible by 5 or not.  \n"
   ]
  },
  {
   "cell_type": "code",
   "execution_count": 48,
   "id": "f87385d0",
   "metadata": {},
   "outputs": [
    {
     "name": "stdout",
     "output_type": "stream",
     "text": [
      "give a  number\t35\n",
      "number is divisible by 5\n"
     ]
    }
   ],
   "source": [
    "num = int(input(\"give a  number\\t\"))\n",
    "if num >= 0:\n",
    "    if num % 5 == 0:\n",
    "        print(\"number is divisible by 5\")\n",
    "    else:\n",
    "        print(\"number is not divisible by 5\")\n",
    "else:\n",
    "    print(\"number entered is negative\")"
   ]
  }
 ],
 "metadata": {
  "kernelspec": {
   "display_name": "Python 3 (ipykernel)",
   "language": "python",
   "name": "python3"
  },
  "language_info": {
   "codemirror_mode": {
    "name": "ipython",
    "version": 3
   },
   "file_extension": ".py",
   "mimetype": "text/x-python",
   "name": "python",
   "nbconvert_exporter": "python",
   "pygments_lexer": "ipython3",
   "version": "3.9.7"
  }
 },
 "nbformat": 4,
 "nbformat_minor": 5
}
