{
 "cells": [
  {
   "cell_type": "markdown",
   "id": "893ea4d4",
   "metadata": {},
   "source": [
    "# MODULE 6 Functions"
   ]
  },
  {
   "cell_type": "markdown",
   "id": "9f691696",
   "metadata": {},
   "source": [
    "# A) Find the magnitude of (3+5j)\n",
    "B) list1 = [1,5.5, (10+20j),’data science’].. Print default functions and parameters exists in list1.\n",
    "C) How do we create a sequence of numbers in Python.\n",
    "D) Read the input from keyboard and print a sequence of numbers up to that number."
   ]
  },
  {
   "cell_type": "markdown",
   "id": "5bfee742",
   "metadata": {},
   "source": [
    "# A) Find the magnitude of (3+5j)"
   ]
  },
  {
   "cell_type": "code",
   "execution_count": 57,
   "id": "6281ab32",
   "metadata": {},
   "outputs": [],
   "source": [
    "compnum = complex(3,5)"
   ]
  },
  {
   "cell_type": "code",
   "execution_count": 58,
   "id": "7a479889",
   "metadata": {},
   "outputs": [
    {
     "name": "stdout",
     "output_type": "stream",
     "text": [
      "(3+5j)\n"
     ]
    }
   ],
   "source": [
    "print(compnum)"
   ]
  },
  {
   "cell_type": "code",
   "execution_count": 59,
   "id": "7c01d861",
   "metadata": {},
   "outputs": [],
   "source": [
    "from math import sqrt"
   ]
  },
  {
   "cell_type": "code",
   "execution_count": 60,
   "id": "87b82751",
   "metadata": {},
   "outputs": [],
   "source": [
    "real = compnum.real\n",
    "img = compnum.imag"
   ]
  },
  {
   "cell_type": "code",
   "execution_count": 61,
   "id": "62218175",
   "metadata": {},
   "outputs": [],
   "source": [
    "magnitude = sqrt(real**2 + img**2)"
   ]
  },
  {
   "cell_type": "code",
   "execution_count": 62,
   "id": "ea7dc970",
   "metadata": {},
   "outputs": [
    {
     "name": "stdout",
     "output_type": "stream",
     "text": [
      "5.830951894845301\n"
     ]
    }
   ],
   "source": [
    "print(magnitude)"
   ]
  },
  {
   "cell_type": "markdown",
   "id": "9eea5901",
   "metadata": {},
   "source": [
    "# B) list1 = [1,5.5, (10+20j),’data science’].. Print default functions and parameters exists in list1."
   ]
  },
  {
   "cell_type": "code",
   "execution_count": 63,
   "id": "70ced47b",
   "metadata": {},
   "outputs": [
    {
     "name": "stdout",
     "output_type": "stream",
     "text": [
      "Help on list object:\n",
      "\n",
      "class list(object)\n",
      " |  list(iterable=(), /)\n",
      " |  \n",
      " |  Built-in mutable sequence.\n",
      " |  \n",
      " |  If no argument is given, the constructor creates a new empty list.\n",
      " |  The argument must be an iterable if specified.\n",
      " |  \n",
      " |  Methods defined here:\n",
      " |  \n",
      " |  __add__(self, value, /)\n",
      " |      Return self+value.\n",
      " |  \n",
      " |  __contains__(self, key, /)\n",
      " |      Return key in self.\n",
      " |  \n",
      " |  __delitem__(self, key, /)\n",
      " |      Delete self[key].\n",
      " |  \n",
      " |  __eq__(self, value, /)\n",
      " |      Return self==value.\n",
      " |  \n",
      " |  __ge__(self, value, /)\n",
      " |      Return self>=value.\n",
      " |  \n",
      " |  __getattribute__(self, name, /)\n",
      " |      Return getattr(self, name).\n",
      " |  \n",
      " |  __getitem__(...)\n",
      " |      x.__getitem__(y) <==> x[y]\n",
      " |  \n",
      " |  __gt__(self, value, /)\n",
      " |      Return self>value.\n",
      " |  \n",
      " |  __iadd__(self, value, /)\n",
      " |      Implement self+=value.\n",
      " |  \n",
      " |  __imul__(self, value, /)\n",
      " |      Implement self*=value.\n",
      " |  \n",
      " |  __init__(self, /, *args, **kwargs)\n",
      " |      Initialize self.  See help(type(self)) for accurate signature.\n",
      " |  \n",
      " |  __iter__(self, /)\n",
      " |      Implement iter(self).\n",
      " |  \n",
      " |  __le__(self, value, /)\n",
      " |      Return self<=value.\n",
      " |  \n",
      " |  __len__(self, /)\n",
      " |      Return len(self).\n",
      " |  \n",
      " |  __lt__(self, value, /)\n",
      " |      Return self<value.\n",
      " |  \n",
      " |  __mul__(self, value, /)\n",
      " |      Return self*value.\n",
      " |  \n",
      " |  __ne__(self, value, /)\n",
      " |      Return self!=value.\n",
      " |  \n",
      " |  __repr__(self, /)\n",
      " |      Return repr(self).\n",
      " |  \n",
      " |  __reversed__(self, /)\n",
      " |      Return a reverse iterator over the list.\n",
      " |  \n",
      " |  __rmul__(self, value, /)\n",
      " |      Return value*self.\n",
      " |  \n",
      " |  __setitem__(self, key, value, /)\n",
      " |      Set self[key] to value.\n",
      " |  \n",
      " |  __sizeof__(self, /)\n",
      " |      Return the size of the list in memory, in bytes.\n",
      " |  \n",
      " |  append(self, object, /)\n",
      " |      Append object to the end of the list.\n",
      " |  \n",
      " |  clear(self, /)\n",
      " |      Remove all items from list.\n",
      " |  \n",
      " |  copy(self, /)\n",
      " |      Return a shallow copy of the list.\n",
      " |  \n",
      " |  count(self, value, /)\n",
      " |      Return number of occurrences of value.\n",
      " |  \n",
      " |  extend(self, iterable, /)\n",
      " |      Extend list by appending elements from the iterable.\n",
      " |  \n",
      " |  index(self, value, start=0, stop=9223372036854775807, /)\n",
      " |      Return first index of value.\n",
      " |      \n",
      " |      Raises ValueError if the value is not present.\n",
      " |  \n",
      " |  insert(self, index, object, /)\n",
      " |      Insert object before index.\n",
      " |  \n",
      " |  pop(self, index=-1, /)\n",
      " |      Remove and return item at index (default last).\n",
      " |      \n",
      " |      Raises IndexError if list is empty or index is out of range.\n",
      " |  \n",
      " |  remove(self, value, /)\n",
      " |      Remove first occurrence of value.\n",
      " |      \n",
      " |      Raises ValueError if the value is not present.\n",
      " |  \n",
      " |  reverse(self, /)\n",
      " |      Reverse *IN PLACE*.\n",
      " |  \n",
      " |  sort(self, /, *, key=None, reverse=False)\n",
      " |      Sort the list in ascending order and return None.\n",
      " |      \n",
      " |      The sort is in-place (i.e. the list itself is modified) and stable (i.e. the\n",
      " |      order of two equal elements is maintained).\n",
      " |      \n",
      " |      If a key function is given, apply it once to each list item and sort them,\n",
      " |      ascending or descending, according to their function values.\n",
      " |      \n",
      " |      The reverse flag can be set to sort in descending order.\n",
      " |  \n",
      " |  ----------------------------------------------------------------------\n",
      " |  Class methods defined here:\n",
      " |  \n",
      " |  __class_getitem__(...) from builtins.type\n",
      " |      See PEP 585\n",
      " |  \n",
      " |  ----------------------------------------------------------------------\n",
      " |  Static methods defined here:\n",
      " |  \n",
      " |  __new__(*args, **kwargs) from builtins.type\n",
      " |      Create and return a new object.  See help(type) for accurate signature.\n",
      " |  \n",
      " |  ----------------------------------------------------------------------\n",
      " |  Data and other attributes defined here:\n",
      " |  \n",
      " |  __hash__ = None\n",
      "\n"
     ]
    }
   ],
   "source": [
    "help([1,5.5,(10+20j),\"data science\"])"
   ]
  },
  {
   "cell_type": "markdown",
   "id": "e3dd82b7",
   "metadata": {},
   "source": [
    "# C) How do we create a sequence of numbers in Python"
   ]
  },
  {
   "cell_type": "code",
   "execution_count": 64,
   "id": "d871c7f1",
   "metadata": {},
   "outputs": [
    {
     "name": "stdout",
     "output_type": "stream",
     "text": [
      "0\n",
      "1\n",
      "2\n",
      "3\n",
      "4\n",
      "5\n",
      "6\n",
      "7\n",
      "8\n",
      "9\n"
     ]
    }
   ],
   "source": [
    "for i in range(0,10):\n",
    "    print(i)"
   ]
  },
  {
   "cell_type": "markdown",
   "id": "1898d2eb",
   "metadata": {},
   "source": [
    "# D.Read the input from keyboard and print a sequence of numbers up to that number."
   ]
  },
  {
   "cell_type": "code",
   "execution_count": 66,
   "id": "6cc809e5",
   "metadata": {},
   "outputs": [
    {
     "name": "stdout",
     "output_type": "stream",
     "text": [
      "enter the positive number10\n",
      "0\n",
      "1\n",
      "2\n",
      "3\n",
      "4\n",
      "5\n",
      "6\n",
      "7\n",
      "8\n",
      "9\n"
     ]
    }
   ],
   "source": [
    "inp = int(input(\"enter the positive number\"))\n",
    "for i in range(0,inp):\n",
    "    print(i)"
   ]
  },
  {
   "cell_type": "markdown",
   "id": "bb814077",
   "metadata": {},
   "source": [
    "2. Write a simple user defined function that greets a person in such a way that:\n",
    "i) It should accept both name of person and message you want to deliver.\n",
    "ii) If no message is provided, it should greet a default message ‘How are you’\n",
    "Ex: Hello ---xxxx---, How are you - default message.\n",
    "Ex: Hello ---xxxx---, --xx your message xx---"
   ]
  },
  {
   "cell_type": "code",
   "execution_count": 67,
   "id": "45ea0055",
   "metadata": {},
   "outputs": [],
   "source": [
    "def greet(name,message):\n",
    "    if message != \"\":\n",
    "        print(\"HELLO {}, {}\".format(name,message))\n",
    "    else:\n",
    "        print(\"HELLO {}, How are you\".format(name))"
   ]
  },
  {
   "cell_type": "code",
   "execution_count": 68,
   "id": "c7feb1ed",
   "metadata": {},
   "outputs": [
    {
     "name": "stdout",
     "output_type": "stream",
     "text": [
      "HELLO neeraj, How are you\n"
     ]
    }
   ],
   "source": [
    "greet(name = \"neeraj\",message = \"\")"
   ]
  },
  {
   "cell_type": "code",
   "execution_count": 69,
   "id": "e028d981",
   "metadata": {},
   "outputs": [
    {
     "name": "stdout",
     "output_type": "stream",
     "text": [
      "HELLO raj,  i am fine\n"
     ]
    }
   ],
   "source": [
    "greet(name = \"raj\",message = \" i am fine\")"
   ]
  },
  {
   "cell_type": "markdown",
   "id": "8e71a9f8",
   "metadata": {},
   "source": [
    "3.By using a filter function, find positive number present in a list.\n",
    "Lsit1= [2, 6, -5, 4, -8, -9, 10, 1]"
   ]
  },
  {
   "cell_type": "code",
   "execution_count": 70,
   "id": "aeab7d6b",
   "metadata": {},
   "outputs": [],
   "source": [
    "def filtr(a):\n",
    "    if a > 0:\n",
    "        return a\n",
    "    \n",
    "list1 = [2,6,-5,4,-8,-9,10,1]\n",
    "pos_value = filter(filtr,list1)"
   ]
  },
  {
   "cell_type": "code",
   "execution_count": 71,
   "id": "f3b07a37",
   "metadata": {},
   "outputs": [
    {
     "name": "stdout",
     "output_type": "stream",
     "text": [
      "[2, 6, 4, 10, 1]\n"
     ]
    }
   ],
   "source": [
    "print(list(pos_value))"
   ]
  },
  {
   "cell_type": "code",
   "execution_count": null,
   "id": "acf8a293",
   "metadata": {},
   "outputs": [],
   "source": []
  }
 ],
 "metadata": {
  "kernelspec": {
   "display_name": "Python 3 (ipykernel)",
   "language": "python",
   "name": "python3"
  },
  "language_info": {
   "codemirror_mode": {
    "name": "ipython",
    "version": 3
   },
   "file_extension": ".py",
   "mimetype": "text/x-python",
   "name": "python",
   "nbconvert_exporter": "python",
   "pygments_lexer": "ipython3",
   "version": "3.9.7"
  }
 },
 "nbformat": 4,
 "nbformat_minor": 5
}
